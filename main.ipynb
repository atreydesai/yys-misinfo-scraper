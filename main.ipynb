{
  "nbformat": 4,
  "nbformat_minor": 0,
  "metadata": {
    "colab": {
      "provenance": [],
      "authorship_tag": "ABX9TyNKAAZnhkEmylxDFisT8gh0",
      "include_colab_link": true
    },
    "kernelspec": {
      "name": "python3",
      "display_name": "Python 3"
    },
    "language_info": {
      "name": "python"
    }
  },
  "cells": [
    {
      "cell_type": "markdown",
      "metadata": {
        "id": "view-in-github",
        "colab_type": "text"
      },
      "source": [
        "<a href=\"https://colab.research.google.com/github/atreydesai/yys-misinfo-scraper/blob/main/main.ipynb\" target=\"_parent\"><img src=\"https://colab.research.google.com/assets/colab-badge.svg\" alt=\"Open In Colab\"/></a>"
      ]
    },
    {
      "cell_type": "code",
      "source": [
        "!pip install selenium\n",
        "!pip install yt-dlp"
      ],
      "metadata": {
        "colab": {
          "base_uri": "https://localhost:8080/"
        },
        "id": "SNB3CDo9xTZl",
        "outputId": "9d1778e6-77c2-4e18-c99e-328748856aa5"
      },
      "execution_count": null,
      "outputs": [
        {
          "output_type": "stream",
          "name": "stdout",
          "text": [
            "Requirement already satisfied: selenium in /usr/local/lib/python3.11/dist-packages (4.28.1)\n",
            "Requirement already satisfied: urllib3<3,>=1.26 in /usr/local/lib/python3.11/dist-packages (from urllib3[socks]<3,>=1.26->selenium) (2.3.0)\n",
            "Requirement already satisfied: trio~=0.17 in /usr/local/lib/python3.11/dist-packages (from selenium) (0.28.0)\n",
            "Requirement already satisfied: trio-websocket~=0.9 in /usr/local/lib/python3.11/dist-packages (from selenium) (0.11.1)\n",
            "Requirement already satisfied: certifi>=2021.10.8 in /usr/local/lib/python3.11/dist-packages (from selenium) (2025.1.31)\n",
            "Requirement already satisfied: typing_extensions~=4.9 in /usr/local/lib/python3.11/dist-packages (from selenium) (4.12.2)\n",
            "Requirement already satisfied: websocket-client~=1.8 in /usr/local/lib/python3.11/dist-packages (from selenium) (1.8.0)\n",
            "Requirement already satisfied: attrs>=23.2.0 in /usr/local/lib/python3.11/dist-packages (from trio~=0.17->selenium) (25.1.0)\n",
            "Requirement already satisfied: sortedcontainers in /usr/local/lib/python3.11/dist-packages (from trio~=0.17->selenium) (2.4.0)\n",
            "Requirement already satisfied: idna in /usr/local/lib/python3.11/dist-packages (from trio~=0.17->selenium) (3.10)\n",
            "Requirement already satisfied: outcome in /usr/local/lib/python3.11/dist-packages (from trio~=0.17->selenium) (1.3.0.post0)\n",
            "Requirement already satisfied: sniffio>=1.3.0 in /usr/local/lib/python3.11/dist-packages (from trio~=0.17->selenium) (1.3.1)\n",
            "Requirement already satisfied: wsproto>=0.14 in /usr/local/lib/python3.11/dist-packages (from trio-websocket~=0.9->selenium) (1.2.0)\n",
            "Requirement already satisfied: pysocks!=1.5.7,<2.0,>=1.5.6 in /usr/local/lib/python3.11/dist-packages (from urllib3[socks]<3,>=1.26->selenium) (1.7.1)\n",
            "Requirement already satisfied: h11<1,>=0.9.0 in /usr/local/lib/python3.11/dist-packages (from wsproto>=0.14->trio-websocket~=0.9->selenium) (0.14.0)\n",
            "Collecting yt-dlp\n",
            "  Downloading yt_dlp-2025.1.26-py3-none-any.whl.metadata (172 kB)\n",
            "\u001b[2K     \u001b[90m━━━━━━━━━━━━━━━━━━━━━━━━━━━━━━━━━━━━━━━━\u001b[0m \u001b[32m172.0/172.0 kB\u001b[0m \u001b[31m3.3 MB/s\u001b[0m eta \u001b[36m0:00:00\u001b[0m\n",
            "\u001b[?25hDownloading yt_dlp-2025.1.26-py3-none-any.whl (3.2 MB)\n",
            "\u001b[2K   \u001b[90m━━━━━━━━━━━━━━━━━━━━━━━━━━━━━━━━━━━━━━━━\u001b[0m \u001b[32m3.2/3.2 MB\u001b[0m \u001b[31m33.1 MB/s\u001b[0m eta \u001b[36m0:00:00\u001b[0m\n",
            "\u001b[?25hInstalling collected packages: yt-dlp\n",
            "Successfully installed yt-dlp-2025.1.26\n"
          ]
        }
      ]
    },
    {
      "cell_type": "code",
      "execution_count": null,
      "metadata": {
        "colab": {
          "base_uri": "https://localhost:8080/"
        },
        "id": "sDPjT57nxInv",
        "outputId": "a727c11a-b01e-4173-f202-304ecc757cf6"
      },
      "outputs": [
        {
          "output_type": "stream",
          "name": "stdout",
          "text": [
            "Found the following fact-check URLs on page 1:\n",
            "https://www.snopes.com/fact-check/video-bugs-pringles-chip/\n",
            "https://www.snopes.com/fact-check/dog-train-tracks-tiktok-video/\n",
            "https://www.snopes.com/fact-check/1908-olympics-video/\n",
            "https://www.snopes.com/fact-check/voter-fraud-in-2016-primary/\n",
            "https://www.snopes.com/fact-check/escape-from-buckingham-palace/\n",
            "https://www.snopes.com/fact-check/trump-retweet-cowboys/\n",
            "https://www.snopes.com/fact-check/baby-giraffe-video/\n",
            "https://www.snopes.com/fact-check/trump-project-2025-roberts/\n",
            "https://www.snopes.com/fact-check/ants-termites-standoff/\n",
            "https://www.snopes.com/fact-check/europa-io-jupiter-video/\n",
            "https://www.snopes.com/fact-check/baby-peacock-video/\n",
            "https://www.snopes.com/fact-check/us-cargo-ship-houthi-missile/\n",
            "https://www.snopes.com/fact-check/video-of-a-globular-bolt-real/\n",
            "https://www.snopes.com/fact-check/microscope-video-bugs-oreo-cookie/\n",
            "Found the following fact-check URLs on page 2:\n",
            "https://www.snopes.com/fact-check/video-crowd-celebrating-trump-mugshot/\n",
            "https://www.snopes.com/fact-check/trump-peacefully-and-patriotically/\n",
            "https://www.snopes.com/fact-check/video-zelenskyy-dancing-high-heels/\n",
            "https://www.snopes.com/fact-check/north-korea-internet-video/\n",
            "https://www.snopes.com/fact-check/video-snowy-owl-carrying-chicks/\n",
            "https://www.snopes.com/fact-check/bear-vs-bike/\n",
            "https://www.snopes.com/fact-check/c-span-video-joe-biden-ukraine/\n",
            "https://www.snopes.com/fact-check/giant-moon-blocking-sun-arctic/\n",
            "https://www.snopes.com/fact-check/video-newt-rapidly-changing-color/\n",
            "https://www.snopes.com/fact-check/kobe-bryant-crash-video/\n",
            "https://www.snopes.com/fact-check/fake-video-sea-white-octopus/\n",
            "https://www.snopes.com/fact-check/video-headlines-immigrants-eating-cats/\n",
            "https://www.snopes.com/fact-check/mike-tyson-time-traveler/\n",
            "https://www.snopes.com/fact-check/polo-blow/\n",
            "https://www.snopes.com/fact-check/robots-dancing-shanghai-disneyland/\n",
            "Found the following fact-check URLs on page 3:\n",
            "https://www.snopes.com/fact-check/dolphin-bubbles-rings-video/\n",
            "https://www.snopes.com/fact-check/obama-admits-kenya-birth/\n",
            "https://www.snopes.com/fact-check/baby-recognizes-mothers-heart/\n",
            "https://www.snopes.com/fact-check/ribbon-worm-video/\n",
            "https://www.snopes.com/fact-check/is-this-ghost-of-kyiv-video-real/\n",
            "https://www.snopes.com/fact-check/dolphin-rescues-dog-video/\n",
            "https://www.snopes.com/fact-check/if-youre-a-fetus-and-you-know-it/\n",
            "https://www.snopes.com/fact-check/scarlett-johansson-woman-disappears/\n",
            "https://www.snopes.com/fact-check/elephant-seal-chilean-town/\n",
            "https://www.snopes.com/fact-check/plane-loses-wing/\n",
            "https://www.snopes.com/fact-check/boston-dynamics-robot-fighting-video/\n",
            "https://www.snopes.com/fact-check/trump-waving-at-no-one/\n",
            "Found the following fact-check URLs on page 4:\n",
            "https://www.snopes.com/fact-check/biden-white-americans-video/\n",
            "https://www.snopes.com/fact-check/finland-moving-tanks-border/\n",
            "https://www.snopes.com/fact-check/officer-nakia-jones-fired-after-viral-police-brutality-video/\n",
            "https://www.snopes.com/fact-check/video-tiger-chasing-motorcycle/\n",
            "https://www.snopes.com/fact-check/live-action-spirited-away-series/\n",
            "https://www.snopes.com/fact-check/lion-revenge-trophy-hunter-video/\n",
            "https://www.snopes.com/fact-check/large-leatherback-turtle-video/\n",
            "https://www.snopes.com/fact-check/athletes-fainting-covid-19-vaccine/\n",
            "https://www.snopes.com/fact-check/moonrise-byron-bay-video/\n",
            "https://www.snopes.com/fact-check/kamala-harris-woke-video/\n",
            "https://www.snopes.com/fact-check/biden-wander-off-amazon-rainforest/\n",
            "https://www.snopes.com/fact-check/gabby-petito-video-sandy-hook/\n",
            "https://www.snopes.com/fact-check/russian-nukes-near-finland/\n",
            "https://www.snopes.com/fact-check/plane-loses-wing/\n",
            "Found the following fact-check URLs on page 5:\n",
            "https://www.snopes.com/fact-check/hurricane-dorian-near-florida/\n",
            "https://www.snopes.com/fact-check/marines-jetpacks-video/\n",
            "https://www.snopes.com/fact-check/tom-brady-video-catch-machine/\n",
            "https://www.snopes.com/fact-check/starbucks-cup-size-scam/\n",
            "https://www.snopes.com/fact-check/putin-deepfake-russian-surrender/\n",
            "https://www.snopes.com/fact-check/kim-putin-toast/\n",
            "https://www.snopes.com/fact-check/clip-artless/\n",
            "https://www.snopes.com/fact-check/rocket-moon/\n",
            "https://www.snopes.com/fact-check/cnn-israel-exploding-goats-hezbollah/\n",
            "https://www.snopes.com/fact-check/zombie-chicken-video/\n",
            "https://www.snopes.com/fact-check/black-people-looting-la-wildfires/\n",
            "https://www.snopes.com/fact-check/high-diving-giraffe-video/\n",
            "https://www.snopes.com/fact-check/hurricane-idalia-clearwater-beach-florida/\n",
            "https://www.snopes.com/fact-check/baby-olympics-video/\n",
            "https://www.snopes.com/fact-check/violent-aftermath-of-coronavirus/\n",
            "Found the following fact-check URLs on page 6:\n",
            "https://www.snopes.com/fact-check/ice-helix-polar-vortex-video/\n",
            "https://www.snopes.com/fact-check/mcconnell-video-bandage-forehead/\n",
            "https://www.snopes.com/fact-check/ucla-students-converting-to-islam/\n",
            "https://www.snopes.com/fact-check/unidentified-drone-new-jersey-video-icemanfox1/\n",
            "https://www.snopes.com/fact-check/facebook-good-morning-hoax/\n",
            "https://www.snopes.com/fact-check/microscope-bugs-instant-ramen-video/\n",
            "https://www.snopes.com/fact-check/brazil-mothers-day-robbery/\n",
            "https://www.snopes.com/fact-check/abc-video-syrian-war-footage/\n",
            "https://www.snopes.com/fact-check/amazing-catch-ball-girl/\n",
            "https://www.snopes.com/fact-check/drone-sprayed-substance-over-new-jersey/\n",
            "https://www.snopes.com/fact-check/capitol-police-waving-video/\n",
            "https://www.snopes.com/fact-check/hot-dog-under-microscope/\n",
            "https://www.snopes.com/fact-check/female-time-traveler-cellphone/\n",
            "https://www.snopes.com/fact-check/ai-tiktok-polar-bear-cub-rescue/\n",
            "Found the following fact-check URLs on page 7:\n",
            "https://www.snopes.com/fact-check/video-bye-bye/\n",
            "https://www.snopes.com/fact-check/el-paso-border-migrants/\n",
            "https://www.snopes.com/fact-check/1938-video-female-time-traveler/\n",
            "https://www.snopes.com/fact-check/myanamar-aerobics-video-coup/\n",
            "https://www.snopes.com/fact-check/footage-inside-plane-crashed-nepal/\n",
            "https://www.snopes.com/fact-check/last-blockbuster-closing-bend-oregon-2024/\n",
            "https://www.snopes.com/fact-check/trump-video-project-2025-colossal-mandate/\n",
            "https://www.snopes.com/fact-check/baby-dunking-video/\n",
            "https://www.snopes.com/fact-check/octopus-walking-on-beach/\n",
            "https://www.snopes.com/fact-check/atlanta-georgia-voter-fraud-video/\n",
            "https://www.snopes.com/fact-check/walking-on-water/\n",
            "https://www.snopes.com/fact-check/video-pence-endorsing-harris-walz/\n",
            "https://www.snopes.com/fact-check/waterpark-slide-launch-people-into-air/\n",
            "An error occurred: Message: \n",
            "Stacktrace:\n",
            "#0 0x5973d5ba109a <unknown>\n",
            "#1 0x5973d56688b0 <unknown>\n",
            "#2 0x5973d56b9b99 <unknown>\n",
            "#3 0x5973d56b9d21 <unknown>\n",
            "#4 0x5973d5708854 <unknown>\n",
            "#5 0x5973d56df9ad <unknown>\n",
            "#6 0x5973d5705b8b <unknown>\n",
            "#7 0x5973d56df753 <unknown>\n",
            "#8 0x5973d56ab38e <unknown>\n",
            "#9 0x5973d56acb51 <unknown>\n",
            "#10 0x5973d5b6a76b <unknown>\n",
            "#11 0x5973d5b6e6f2 <unknown>\n",
            "#12 0x5973d5b568fc <unknown>\n",
            "#13 0x5973d5b6f2e4 <unknown>\n",
            "#14 0x5973d5b3a9cf <unknown>\n",
            "#15 0x5973d5b8fcd8 <unknown>\n",
            "#16 0x5973d5b8feb6 <unknown>\n",
            "#17 0x5973d5b9ff16 <unknown>\n",
            "#18 0x14b2318f6ac3 <unknown>\n",
            "\n",
            "No fact-check URLs found on page 8.\n",
            "An error occurred: Message: \n",
            "Stacktrace:\n",
            "#0 0x57a66f33009a <unknown>\n",
            "#1 0x57a66edf78b0 <unknown>\n",
            "#2 0x57a66ee48b99 <unknown>\n",
            "#3 0x57a66ee48d21 <unknown>\n",
            "#4 0x57a66ee97854 <unknown>\n",
            "#5 0x57a66ee6e9ad <unknown>\n",
            "#6 0x57a66ee94b8b <unknown>\n",
            "#7 0x57a66ee6e753 <unknown>\n",
            "#8 0x57a66ee3a38e <unknown>\n",
            "#9 0x57a66ee3bb51 <unknown>\n",
            "#10 0x57a66f2f976b <unknown>\n",
            "#11 0x57a66f2fd6f2 <unknown>\n",
            "#12 0x57a66f2e58fc <unknown>\n",
            "#13 0x57a66f2fe2e4 <unknown>\n",
            "#14 0x57a66f2c99cf <unknown>\n",
            "#15 0x57a66f31ecd8 <unknown>\n",
            "#16 0x57a66f31eeb6 <unknown>\n",
            "#17 0x57a66f32ef16 <unknown>\n",
            "#18 0x1408bad9eac3 <unknown>\n",
            "\n",
            "No fact-check URLs found on page 9.\n",
            "\n",
            "All collected URLs:\n",
            "['https://www.snopes.com/fact-check/video-bugs-pringles-chip/', 'https://www.snopes.com/fact-check/dog-train-tracks-tiktok-video/', 'https://www.snopes.com/fact-check/1908-olympics-video/', 'https://www.snopes.com/fact-check/voter-fraud-in-2016-primary/', 'https://www.snopes.com/fact-check/escape-from-buckingham-palace/', 'https://www.snopes.com/fact-check/trump-retweet-cowboys/', 'https://www.snopes.com/fact-check/baby-giraffe-video/', 'https://www.snopes.com/fact-check/trump-project-2025-roberts/', 'https://www.snopes.com/fact-check/ants-termites-standoff/', 'https://www.snopes.com/fact-check/europa-io-jupiter-video/', 'https://www.snopes.com/fact-check/baby-peacock-video/', 'https://www.snopes.com/fact-check/us-cargo-ship-houthi-missile/', 'https://www.snopes.com/fact-check/video-of-a-globular-bolt-real/', 'https://www.snopes.com/fact-check/microscope-video-bugs-oreo-cookie/', 'https://www.snopes.com/fact-check/video-crowd-celebrating-trump-mugshot/', 'https://www.snopes.com/fact-check/trump-peacefully-and-patriotically/', 'https://www.snopes.com/fact-check/video-zelenskyy-dancing-high-heels/', 'https://www.snopes.com/fact-check/north-korea-internet-video/', 'https://www.snopes.com/fact-check/video-snowy-owl-carrying-chicks/', 'https://www.snopes.com/fact-check/bear-vs-bike/', 'https://www.snopes.com/fact-check/c-span-video-joe-biden-ukraine/', 'https://www.snopes.com/fact-check/giant-moon-blocking-sun-arctic/', 'https://www.snopes.com/fact-check/video-newt-rapidly-changing-color/', 'https://www.snopes.com/fact-check/kobe-bryant-crash-video/', 'https://www.snopes.com/fact-check/fake-video-sea-white-octopus/', 'https://www.snopes.com/fact-check/video-headlines-immigrants-eating-cats/', 'https://www.snopes.com/fact-check/mike-tyson-time-traveler/', 'https://www.snopes.com/fact-check/polo-blow/', 'https://www.snopes.com/fact-check/robots-dancing-shanghai-disneyland/', 'https://www.snopes.com/fact-check/dolphin-bubbles-rings-video/', 'https://www.snopes.com/fact-check/obama-admits-kenya-birth/', 'https://www.snopes.com/fact-check/baby-recognizes-mothers-heart/', 'https://www.snopes.com/fact-check/ribbon-worm-video/', 'https://www.snopes.com/fact-check/is-this-ghost-of-kyiv-video-real/', 'https://www.snopes.com/fact-check/dolphin-rescues-dog-video/', 'https://www.snopes.com/fact-check/if-youre-a-fetus-and-you-know-it/', 'https://www.snopes.com/fact-check/scarlett-johansson-woman-disappears/', 'https://www.snopes.com/fact-check/elephant-seal-chilean-town/', 'https://www.snopes.com/fact-check/plane-loses-wing/', 'https://www.snopes.com/fact-check/boston-dynamics-robot-fighting-video/', 'https://www.snopes.com/fact-check/trump-waving-at-no-one/', 'https://www.snopes.com/fact-check/biden-white-americans-video/', 'https://www.snopes.com/fact-check/finland-moving-tanks-border/', 'https://www.snopes.com/fact-check/officer-nakia-jones-fired-after-viral-police-brutality-video/', 'https://www.snopes.com/fact-check/video-tiger-chasing-motorcycle/', 'https://www.snopes.com/fact-check/live-action-spirited-away-series/', 'https://www.snopes.com/fact-check/lion-revenge-trophy-hunter-video/', 'https://www.snopes.com/fact-check/large-leatherback-turtle-video/', 'https://www.snopes.com/fact-check/athletes-fainting-covid-19-vaccine/', 'https://www.snopes.com/fact-check/moonrise-byron-bay-video/', 'https://www.snopes.com/fact-check/kamala-harris-woke-video/', 'https://www.snopes.com/fact-check/biden-wander-off-amazon-rainforest/', 'https://www.snopes.com/fact-check/gabby-petito-video-sandy-hook/', 'https://www.snopes.com/fact-check/russian-nukes-near-finland/', 'https://www.snopes.com/fact-check/plane-loses-wing/', 'https://www.snopes.com/fact-check/hurricane-dorian-near-florida/', 'https://www.snopes.com/fact-check/marines-jetpacks-video/', 'https://www.snopes.com/fact-check/tom-brady-video-catch-machine/', 'https://www.snopes.com/fact-check/starbucks-cup-size-scam/', 'https://www.snopes.com/fact-check/putin-deepfake-russian-surrender/', 'https://www.snopes.com/fact-check/kim-putin-toast/', 'https://www.snopes.com/fact-check/clip-artless/', 'https://www.snopes.com/fact-check/rocket-moon/', 'https://www.snopes.com/fact-check/cnn-israel-exploding-goats-hezbollah/', 'https://www.snopes.com/fact-check/zombie-chicken-video/', 'https://www.snopes.com/fact-check/black-people-looting-la-wildfires/', 'https://www.snopes.com/fact-check/high-diving-giraffe-video/', 'https://www.snopes.com/fact-check/hurricane-idalia-clearwater-beach-florida/', 'https://www.snopes.com/fact-check/baby-olympics-video/', 'https://www.snopes.com/fact-check/violent-aftermath-of-coronavirus/', 'https://www.snopes.com/fact-check/ice-helix-polar-vortex-video/', 'https://www.snopes.com/fact-check/mcconnell-video-bandage-forehead/', 'https://www.snopes.com/fact-check/ucla-students-converting-to-islam/', 'https://www.snopes.com/fact-check/unidentified-drone-new-jersey-video-icemanfox1/', 'https://www.snopes.com/fact-check/facebook-good-morning-hoax/', 'https://www.snopes.com/fact-check/microscope-bugs-instant-ramen-video/', 'https://www.snopes.com/fact-check/brazil-mothers-day-robbery/', 'https://www.snopes.com/fact-check/abc-video-syrian-war-footage/', 'https://www.snopes.com/fact-check/amazing-catch-ball-girl/', 'https://www.snopes.com/fact-check/drone-sprayed-substance-over-new-jersey/', 'https://www.snopes.com/fact-check/capitol-police-waving-video/', 'https://www.snopes.com/fact-check/hot-dog-under-microscope/', 'https://www.snopes.com/fact-check/female-time-traveler-cellphone/', 'https://www.snopes.com/fact-check/ai-tiktok-polar-bear-cub-rescue/', 'https://www.snopes.com/fact-check/video-bye-bye/', 'https://www.snopes.com/fact-check/el-paso-border-migrants/', 'https://www.snopes.com/fact-check/1938-video-female-time-traveler/', 'https://www.snopes.com/fact-check/myanamar-aerobics-video-coup/', 'https://www.snopes.com/fact-check/footage-inside-plane-crashed-nepal/', 'https://www.snopes.com/fact-check/last-blockbuster-closing-bend-oregon-2024/', 'https://www.snopes.com/fact-check/trump-video-project-2025-colossal-mandate/', 'https://www.snopes.com/fact-check/baby-dunking-video/', 'https://www.snopes.com/fact-check/octopus-walking-on-beach/', 'https://www.snopes.com/fact-check/atlanta-georgia-voter-fraud-video/', 'https://www.snopes.com/fact-check/walking-on-water/', 'https://www.snopes.com/fact-check/video-pence-endorsing-harris-walz/', 'https://www.snopes.com/fact-check/waterpark-slide-launch-people-into-air/']\n"
          ]
        }
      ],
      "source": [
        "from selenium import webdriver\n",
        "from selenium.webdriver.chrome.options import Options\n",
        "from selenium.webdriver.common.by import By\n",
        "from selenium.webdriver.support.ui import WebDriverWait\n",
        "from selenium.webdriver.support import expected_conditions as EC\n",
        "\n",
        "def get_snopes_fact_check_urls(search_term,page_num):\n",
        "    chrome_options = Options()\n",
        "    chrome_options.add_argument(\"--headless\")\n",
        "    chrome_options.add_argument(\"--disable-gpu\")\n",
        "    chrome_options.add_argument(\"--no-sandbox\")\n",
        "\n",
        "    driver = webdriver.Chrome(options=chrome_options)\n",
        "\n",
        "    url = f\"https://www.snopes.com/search/?q={search_term}#gsc.tab=0&gsc.q={search_term}&gsc.page={page_num}\"\n",
        "\n",
        "    try:\n",
        "        driver.get(url)\n",
        "        WebDriverWait(driver, 10).until(\n",
        "            EC.presence_of_element_located((By.CLASS_NAME, \"gs-title\"))\n",
        "        )\n",
        "\n",
        "        links = driver.find_elements(By.CLASS_NAME, \"gs-title\")\n",
        "\n",
        "        fact_check_urls = []\n",
        "        for link in links:\n",
        "            href = link.get_attribute(\"href\")\n",
        "            if href and \"https://www.snopes.com/fact-check\" in href:\n",
        "                fact_check_urls.append(href)\n",
        "\n",
        "        return fact_check_urls\n",
        "\n",
        "    except Exception as e:\n",
        "        print(f\"An error occurred: {e}\")\n",
        "        return []\n",
        "    finally:\n",
        "        driver.quit()\n",
        "\n",
        "if __name__ == '__main__':\n",
        "    all_urls = []\n",
        "    for page_num in range(1, 10):\n",
        "        urls = get_snopes_fact_check_urls(\"video\", page_num)\n",
        "        if urls:\n",
        "            switch_count=True\n",
        "            print(f\"Found the following fact-check URLs on page {page_num}:\")\n",
        "            for url in urls:\n",
        "                if(switch_count):\n",
        "                  print(url)\n",
        "                  all_urls.append(url)\n",
        "                  switch_count=False\n",
        "                else:\n",
        "                  switch_count=True\n",
        "        else:\n",
        "            print(f\"No fact-check URLs found on page {page_num}.\")\n",
        "\n",
        "    print(\"\\nAll collected URLs:\")\n",
        "    print(all_urls)"
      ]
    },
    {
      "cell_type": "code",
      "source": [
        "from google.colab import drive\n",
        "drive.mount('/content/drive')"
      ],
      "metadata": {
        "colab": {
          "base_uri": "https://localhost:8080/"
        },
        "id": "HJYxJ2kqcLeY",
        "outputId": "ac881d33-f1a3-4d81-d5c1-61d422f06132"
      },
      "execution_count": null,
      "outputs": [
        {
          "output_type": "stream",
          "name": "stdout",
          "text": [
            "Drive already mounted at /content/drive; to attempt to forcibly remount, call drive.mount(\"/content/drive\", force_remount=True).\n"
          ]
        }
      ]
    },
    {
      "cell_type": "code",
      "source": [
        "from bs4 import BeautifulSoup\n",
        "import requests\n",
        "import re\n",
        "import yt_dlp\n",
        "from google.colab import drive\n",
        "import shutil\n",
        "import os\n",
        "import subprocess\n",
        "import json\n",
        "\n",
        "\n",
        "def get_headline(url):\n",
        "    try:\n",
        "        response = requests.get(url)\n",
        "        response.raise_for_status()\n",
        "\n",
        "        soup = BeautifulSoup(response.content, 'html.parser')\n",
        "        title_container = soup.find('section', class_='title-container')\n",
        "        if title_container:\n",
        "            headline_tag = title_container.find('h1')\n",
        "            headline = headline_tag.text.strip() if headline_tag else None\n",
        "            return headline\n",
        "        else:\n",
        "            return None\n",
        "\n",
        "    except requests.exceptions.RequestException as e:\n",
        "        print(f\"Error fetching URL: {e}\")\n",
        "        return None\n",
        "    except Exception as e:\n",
        "        print(f\"An unexpected error occurred: {e}\")\n",
        "        return None\n",
        "\n",
        "def get_subheadline(url):\n",
        "    try:\n",
        "        response = requests.get(url)\n",
        "        response.raise_for_status()\n",
        "\n",
        "        soup = BeautifulSoup(response.content, 'html.parser')\n",
        "        title_container = soup.find('section', class_='title-container')\n",
        "        if title_container:\n",
        "            subheadline_tag = title_container.find('h2')\n",
        "            subheadline = subheadline_tag.text.strip() if subheadline_tag else None\n",
        "            return subheadline\n",
        "        else:\n",
        "            return None\n",
        "\n",
        "    except requests.exceptions.RequestException as e:\n",
        "        print(f\"Error fetching URL: {e}\")\n",
        "        return None\n",
        "    except Exception as e:\n",
        "        print(f\"An unexpected error occurred: {e}\")\n",
        "        return None\n",
        "\n",
        "def _get_social_media_platform(link):\n",
        "    if not link:\n",
        "        return None\n",
        "\n",
        "    social_media_domains = {\n",
        "        \"tiktok.com\": \"tiktok\",\n",
        "        \"youtube.com\": \"youtube\",\n",
        "        \"twitter.com\": \"twitter\",\n",
        "        \"x.com\": \"twitter\",\n",
        "        \"facebook.com\": \"facebook\",\n",
        "        \"reddit.com\": \"reddit\",\n",
        "        \"instagram.com\": \"instagram\",\n",
        "    }\n",
        "\n",
        "    for domain, platform_name in social_media_domains.items():\n",
        "        if domain in link:\n",
        "            return platform_name\n",
        "    return None\n",
        "\n",
        "def get_rating(url):\n",
        "    try:\n",
        "        response = requests.get(url)\n",
        "        response.raise_for_status()\n",
        "\n",
        "        soup = BeautifulSoup(response.content, 'html.parser')\n",
        "        rating_div = soup.find('div', class_='rating_title_wrap')\n",
        "        if rating_div:\n",
        "            for child in rating_div.children:\n",
        "                if child.string and child.string.strip():\n",
        "                    return child.string.strip()\n",
        "        return None\n",
        "\n",
        "    except (requests.exceptions.RequestException, Exception) as e:\n",
        "        print(f\"Error getting rating: {e}\")\n",
        "        return None\n",
        "\n",
        "def get_links_from_article_rail(url):\n",
        "    try:\n",
        "        response = requests.get(url)\n",
        "        response.raise_for_status()\n",
        "\n",
        "        soup = BeautifulSoup(response.content, 'html.parser')\n",
        "        youtube_container = soup.find('div', class_='embed_container youtube_container')\n",
        "        if youtube_container:\n",
        "            iframe = youtube_container.find('iframe', attrs={'data-src': True})\n",
        "            if iframe and 'youtube.com/embed' in iframe['data-src']:\n",
        "                return [iframe['data-src']]\n",
        "            iframe = youtube_container.find('iframe', attrs={'src': True})\n",
        "            if iframe and 'youtube.com/embed' in iframe['src']:\n",
        "              return [iframe['src']]\n",
        "\n",
        "        article_rail_wrapper = soup.find('div', class_='article_rail_wrapper')\n",
        "        if article_rail_wrapper:\n",
        "            links = []\n",
        "            for a_tag in article_rail_wrapper.find_all('a', href=True):\n",
        "                links.append(a_tag['href'])\n",
        "            return links\n",
        "        else:\n",
        "            return []\n",
        "\n",
        "    except requests.exceptions.RequestException as e:\n",
        "        print(f\"Error fetching URL: {e}\")\n",
        "        return []\n",
        "    except Exception as e:\n",
        "        print(f\"An error occurred: {e}\")\n",
        "        return []\n",
        "\n",
        "def get_first_social_link(url):\n",
        "    links = get_links_from_article_rail(url)\n",
        "    if not links:\n",
        "        return None\n",
        "\n",
        "    social_media_patterns = [\n",
        "        r'https?://(?:www\\.)?tiktok\\.com',\n",
        "        r'https?://(?:www\\.)?youtube\\.com',\n",
        "        r'https?://(?:www\\.)?(?:twitter\\.com|x\\.com)',\n",
        "        r'https?://(?:www\\.)?facebook\\.com',\n",
        "        r'https?://(?:www\\.)?reddit\\.com',\n",
        "        r'https?://(?:www\\.)?instagram\\.com',\n",
        "    ]\n",
        "\n",
        "    for link in links:\n",
        "        for pattern in social_media_patterns:\n",
        "            if re.match(pattern, link):\n",
        "                return link\n",
        "\n",
        "    return \"No link associated with article found.\"\n",
        "\n",
        "\n",
        "def download_video(url, output_filename=\"downloaded_video.mp4\", verbose=False):\n",
        "    try:\n",
        "        ydl_opts = {\n",
        "            'format': 'best',\n",
        "            'outtmpl': 'temp_download.%(ext)s',\n",
        "            'quiet': not verbose,\n",
        "            'no_warnings': True,\n",
        "        }\n",
        "\n",
        "        with yt_dlp.YoutubeDL(ydl_opts) as ydl:\n",
        "            info_dict = ydl.extract_info(url, download=True)\n",
        "            downloaded_filename = ydl.prepare_filename(info_dict)\n",
        "            duration = info_dict.get('duration')\n",
        "\n",
        "\n",
        "        _, ext = os.path.splitext(downloaded_filename)\n",
        "        if ext.lower() == '.mp4':\n",
        "            os.rename(downloaded_filename, output_filename)\n",
        "            return True, \"Successfully downloaded and renamed to MP4.\", duration\n",
        "\n",
        "        command = [\n",
        "            'ffmpeg',\n",
        "            '-i', downloaded_filename,\n",
        "            '-c:v', 'libx264',\n",
        "            '-c:a', 'aac',\n",
        "            '-strict', 'experimental',\n",
        "            '-y',\n",
        "             output_filename\n",
        "        ]\n",
        "\n",
        "        if verbose:\n",
        "            print(f\"Running ffmpeg command: {' '.join(command)}\")\n",
        "\n",
        "        result = subprocess.run(command, capture_output=True, text=True)\n",
        "\n",
        "        if result.returncode != 0:\n",
        "            error_message = f\"FFmpeg conversion failed:\\nReturn code: {result.returncode}\\nStdout: {result.stdout}\\nStderr: {result.stderr}\"\n",
        "            if verbose:\n",
        "                print(error_message)\n",
        "            os.remove(downloaded_filename)\n",
        "            return False, error_message, None\n",
        "        else:\n",
        "            if verbose:\n",
        "              print(\"FFmpeg conversion successful.\")\n",
        "            os.remove(downloaded_filename)\n",
        "            return True, \"Successfully downloaded and converted to MP4.\", duration\n",
        "\n",
        "    except yt_dlp.utils.DownloadError as e:\n",
        "        return False, f\"yt-dlp download error: {e}\", None\n",
        "    except FileNotFoundError:\n",
        "        return False, \"ffmpeg not found.  Please make sure ffmpeg is installed and in your system's PATH.\", None\n",
        "    except Exception as e:\n",
        "        return False, f\"An unexpected error occurred: {e}\", None\n",
        "\n",
        "def download_progress_hook(d):\n",
        "    if d['status'] == 'downloading':\n",
        "        print(f\"Downloading: {d['_percent_str']} {d['_speed_str']} ETA: {d['_eta_str']}\", end='\\r')\n",
        "    elif d['status'] == 'finished':\n",
        "        print(f\"\\nDownloaded: {d['filename']}\")\n",
        "\n",
        "\n",
        "def delete_video(filename):\n",
        "    if not filename:\n",
        "        print(\"No filename provided for deletion.\")\n",
        "        return\n",
        "\n",
        "    try:\n",
        "        os.remove(filename)\n",
        "        print(f\"File '{filename}' deleted successfully.\")\n",
        "    except FileNotFoundError:\n",
        "        print(f\"File '{filename}' not found.\")\n",
        "    except OSError as e:\n",
        "        print(f\"Error deleting file '{filename}': {e}\")\n",
        "\n",
        "if __name__ == '__main__':\n",
        "    try:\n",
        "        drive.mount('/content/drive')\n",
        "        drive_mounted = True\n",
        "    except Exception as e:\n",
        "        print(f\"Error mounting Google Drive: {e}\")\n",
        "        drive_mounted = False\n",
        "\n",
        "    video_count = 1\n",
        "    results = []\n",
        "\n",
        "    print(f\"There are {len(all_urls)} videos to be processed.\")\n",
        "\n",
        "    for URL in all_urls:\n",
        "        headline = get_headline(URL)\n",
        "        subheadline = get_subheadline(URL)\n",
        "        social_platform = _get_social_media_platform(get_first_social_link(URL))\n",
        "        rating = get_rating(URL)\n",
        "        social_link = get_first_social_link(URL)\n",
        "        destination_path = None\n",
        "        download_success = False\n",
        "        duration = None\n",
        "\n",
        "        if social_link and social_link != \"No link associated with article found.\":\n",
        "            download_success, download_message, duration = download_video(social_link)\n",
        "            if download_success and drive_mounted:\n",
        "                destination_path = f'/content/drive/MyDrive/.Research/CLIP/yooyeon-atrey/videos/video_{video_count}'\n",
        "                try:\n",
        "                    shutil.copy('/content/downloaded_video.mp4', destination_path)\n",
        "                    print(f\"Video copied to {destination_path}\")\n",
        "                except Exception as e:\n",
        "                    print(f\"Error copying video: {e}\")\n",
        "                    destination_path = Non\n",
        "        else:\n",
        "            download_message = \"No social media link found, skipping download.\"\n",
        "\n",
        "        if destination_path is not None and duration is not None and duration <= 600:\n",
        "            video_data = {\n",
        "                'original_url': URL,\n",
        "                'headline': headline,\n",
        "                'subheadline': subheadline,\n",
        "                'social_platform': social_platform,\n",
        "                'rating': rating,\n",
        "                'social_link': social_link,\n",
        "                'download_success': download_success,\n",
        "                'download_message': download_message,\n",
        "                'drive_path': destination_path,\n",
        "                'duration': duration,\n",
        "            }\n",
        "            results.append(video_data)\n",
        "            video_count += 1\n",
        "            if download_success:\n",
        "                delete_video('/content/downloaded_video.mp4')\n",
        "        else:\n",
        "            #Do not add the video data to the results.\n",
        "            print(f\"Skipping video {video_count} due to invalid path, excessive duration, or download failure.\")\n",
        "            if download_success:\n",
        "               delete_video('/content/downloaded_video.mp4')\n",
        "            video_count += 1 # this will still increment to avoid conflicts\n",
        "\n",
        "    with open(\"video_data.json\", \"w\") as f:\n",
        "        json.dump(results, f, indent=4)\n",
        "    print(\"Video data saved to video_data.json\")\n",
        "\n",
        "    if drive_mounted:\n",
        "        try:\n",
        "            shutil.copy(\"video_data.json\", \"/content/drive/MyDrive/.Research/CLIP/yooyeon-atrey/videos/\")\n",
        "            print(\"JSON file copied to Google Drive.\")\n",
        "        except Exception as e:\n",
        "            print(f\"Error copying JSON file to Drive: {e}\")"
      ],
      "metadata": {
        "colab": {
          "base_uri": "https://localhost:8080/"
        },
        "id": "ED5UaQ0YB1Fh",
        "outputId": "432e08f1-230e-428b-dae9-84b67bc06518"
      },
      "execution_count": null,
      "outputs": [
        {
          "output_type": "stream",
          "name": "stdout",
          "text": [
            "Drive already mounted at /content/drive; to attempt to forcibly remount, call drive.mount(\"/content/drive\", force_remount=True).\n",
            "There are 97 videos to be processed.\n",
            "Video copied to /content/drive/MyDrive/.Research/CLIP/yooyeon-atrey/videos/video_1\n",
            "File '/content/downloaded_video.mp4' deleted successfully.\n"
          ]
        },
        {
          "output_type": "stream",
          "name": "stderr",
          "text": [
            "ERROR: [TikTok] 7012463416216489218: Video not available, status code 10222; please report this issue on  https://github.com/yt-dlp/yt-dlp/issues?q= , filling out the appropriate issue template. Confirm you are on the latest version using  yt-dlp -U\n"
          ]
        },
        {
          "output_type": "stream",
          "name": "stdout",
          "text": [
            "Video copied to /content/drive/MyDrive/.Research/CLIP/yooyeon-atrey/videos/video_3\n",
            "File '/content/downloaded_video.mp4' deleted successfully.\n",
            "Video copied to /content/drive/MyDrive/.Research/CLIP/yooyeon-atrey/videos/video_4\n",
            "File '/content/downloaded_video.mp4' deleted successfully.\n",
            "Video copied to /content/drive/MyDrive/.Research/CLIP/yooyeon-atrey/videos/video_5\n",
            "File '/content/downloaded_video.mp4' deleted successfully.\n"
          ]
        },
        {
          "output_type": "stream",
          "name": "stderr",
          "text": [
            "ERROR: [twitter] 1265855459719892993: No video could be found in this tweet\n"
          ]
        },
        {
          "output_type": "stream",
          "name": "stdout",
          "text": [
            "Video copied to /content/drive/MyDrive/.Research/CLIP/yooyeon-atrey/videos/video_7\n",
            "File '/content/downloaded_video.mp4' deleted successfully.\n"
          ]
        },
        {
          "output_type": "stream",
          "name": "stderr",
          "text": [
            "ERROR: [Reddit] fsksoe: Account authentication is required. Use --cookies, --cookies-from-browser, --username and --password, --netrc-cmd, or --netrc (reddit) to provide account credentials. See  https://github.com/yt-dlp/yt-dlp/wiki/FAQ#how-do-i-pass-cookies-to-yt-dlp  for how to manually pass cookies\n",
            "ERROR: [Reddit] sepek7: Account authentication is required. Use --cookies, --cookies-from-browser, --username and --password, --netrc-cmd, or --netrc (reddit) to provide account credentials. See  https://github.com/yt-dlp/yt-dlp/wiki/FAQ#how-do-i-pass-cookies-to-yt-dlp  for how to manually pass cookies\n"
          ]
        },
        {
          "output_type": "stream",
          "name": "stdout",
          "text": [
            "Video copied to /content/drive/MyDrive/.Research/CLIP/yooyeon-atrey/videos/video_11\n",
            "File '/content/downloaded_video.mp4' deleted successfully.\n",
            "Video copied to /content/drive/MyDrive/.Research/CLIP/yooyeon-atrey/videos/video_12\n",
            "File '/content/downloaded_video.mp4' deleted successfully.\n"
          ]
        },
        {
          "output_type": "stream",
          "name": "stderr",
          "text": [
            "ERROR: [facebook] 2548841225330935: No video formats found!; please report this issue on  https://github.com/yt-dlp/yt-dlp/issues?q= , filling out the appropriate issue template. Confirm you are on the latest version using  yt-dlp -U\n"
          ]
        },
        {
          "output_type": "stream",
          "name": "stdout",
          "text": [
            "Video copied to /content/drive/MyDrive/.Research/CLIP/yooyeon-atrey/videos/video_14\n",
            "File '/content/downloaded_video.mp4' deleted successfully.\n"
          ]
        },
        {
          "output_type": "stream",
          "name": "stderr",
          "text": [
            "ERROR: Unsupported URL: https://x.com/realDonaldTrump?ref_src=twsrc%5Etfw\n",
            "ERROR: [facebook] 10159034024061460: This video is only available for registered users. Use --cookies, --cookies-from-browser, --username and --password, --netrc-cmd, or --netrc (facebook) to provide account credentials. See  https://github.com/yt-dlp/yt-dlp/wiki/FAQ#how-do-i-pass-cookies-to-yt-dlp  for how to manually pass cookies\n"
          ]
        },
        {
          "output_type": "stream",
          "name": "stdout",
          "text": [
            "Video copied to /content/drive/MyDrive/.Research/CLIP/yooyeon-atrey/videos/video_17\n",
            "File '/content/downloaded_video.mp4' deleted successfully.\n",
            "Video copied to /content/drive/MyDrive/.Research/CLIP/yooyeon-atrey/videos/video_18\n",
            "File '/content/downloaded_video.mp4' deleted successfully.\n",
            "Video copied to /content/drive/MyDrive/.Research/CLIP/yooyeon-atrey/videos/video_19\n",
            "File '/content/downloaded_video.mp4' deleted successfully.\n",
            "Video copied to /content/drive/MyDrive/.Research/CLIP/yooyeon-atrey/videos/video_22\n",
            "File '/content/downloaded_video.mp4' deleted successfully.\n"
          ]
        },
        {
          "output_type": "stream",
          "name": "stderr",
          "text": [
            "ERROR: [twitter] 1650863463634448388: NSFW tweet requires authentication. Use --cookies, --cookies-from-browser, --username and --password, --netrc-cmd, or --netrc (twitter) to provide account credentials. See  https://github.com/yt-dlp/yt-dlp/wiki/FAQ#how-do-i-pass-cookies-to-yt-dlp  for how to manually pass cookies\n"
          ]
        },
        {
          "output_type": "stream",
          "name": "stdout",
          "text": [
            "Video copied to /content/drive/MyDrive/.Research/CLIP/yooyeon-atrey/videos/video_24\n",
            "File '/content/downloaded_video.mp4' deleted successfully.\n",
            "Video copied to /content/drive/MyDrive/.Research/CLIP/yooyeon-atrey/videos/video_25\n",
            "File '/content/downloaded_video.mp4' deleted successfully.\n",
            "Video copied to /content/drive/MyDrive/.Research/CLIP/yooyeon-atrey/videos/video_26\n",
            "File '/content/downloaded_video.mp4' deleted successfully.\n"
          ]
        },
        {
          "output_type": "stream",
          "name": "stderr",
          "text": [
            "ERROR: [youtube] Oww5zb0XvHg: Video unavailable. This video is no longer available because the YouTube account associated with this video has been terminated.\n"
          ]
        },
        {
          "output_type": "stream",
          "name": "stdout",
          "text": [
            "Video copied to /content/drive/MyDrive/.Research/CLIP/yooyeon-atrey/videos/video_29\n",
            "File '/content/downloaded_video.mp4' deleted successfully.\n"
          ]
        },
        {
          "output_type": "stream",
          "name": "stderr",
          "text": [
            "ERROR: [youtube:tab] ObamaSnippetsDotCom\": Unable to download API page: HTTP Error 404: Not Found (caused by <HTTPError 404: Not Found>)\n"
          ]
        },
        {
          "output_type": "stream",
          "name": "stdout",
          "text": [
            "Video copied to /content/drive/MyDrive/.Research/CLIP/yooyeon-atrey/videos/video_32\n",
            "File '/content/downloaded_video.mp4' deleted successfully.\n"
          ]
        },
        {
          "output_type": "stream",
          "name": "stderr",
          "text": [
            "ERROR: [Reddit] 18rxjka: Account authentication is required. Use --cookies, --cookies-from-browser, --username and --password, --netrc-cmd, or --netrc (reddit) to provide account credentials. See  https://github.com/yt-dlp/yt-dlp/wiki/FAQ#how-do-i-pass-cookies-to-yt-dlp  for how to manually pass cookies\n"
          ]
        },
        {
          "output_type": "stream",
          "name": "stdout",
          "text": [
            "Video copied to /content/drive/MyDrive/.Research/CLIP/yooyeon-atrey/videos/video_35\n",
            "File '/content/downloaded_video.mp4' deleted successfully.\n",
            "Video copied to /content/drive/MyDrive/.Research/CLIP/yooyeon-atrey/videos/video_37\n",
            "File '/content/downloaded_video.mp4' deleted successfully.\n",
            "Video copied to /content/drive/MyDrive/.Research/CLIP/yooyeon-atrey/videos/video_40\n",
            "File '/content/downloaded_video.mp4' deleted successfully.\n"
          ]
        },
        {
          "output_type": "stream",
          "name": "stderr",
          "text": [
            "ERROR: [facebook] 512515981158720: No video formats found!; please report this issue on  https://github.com/yt-dlp/yt-dlp/issues?q= , filling out the appropriate issue template. Confirm you are on the latest version using  yt-dlp -U\n",
            "ERROR: [twitter] 1625818964990341121: No video could be found in this tweet\n",
            "ERROR: [twitter] 1521701921563815937: Suspended\n"
          ]
        },
        {
          "output_type": "stream",
          "name": "stdout",
          "text": [
            "Video copied to /content/drive/MyDrive/.Research/CLIP/yooyeon-atrey/videos/video_45\n",
            "File '/content/downloaded_video.mp4' deleted successfully.\n"
          ]
        },
        {
          "output_type": "stream",
          "name": "stderr",
          "text": [
            "ERROR: Unsupported URL: https://www.facebook.com/YodaBBYABY\n"
          ]
        },
        {
          "output_type": "stream",
          "name": "stdout",
          "text": [
            "Video copied to /content/drive/MyDrive/.Research/CLIP/yooyeon-atrey/videos/video_47\n",
            "File '/content/downloaded_video.mp4' deleted successfully.\n",
            "Video copied to /content/drive/MyDrive/.Research/CLIP/yooyeon-atrey/videos/video_48\n",
            "File '/content/downloaded_video.mp4' deleted successfully.\n"
          ]
        },
        {
          "output_type": "stream",
          "name": "stderr",
          "text": [
            "ERROR: [twitter] 1457804525427908608: No video could be found in this tweet\n",
            "ERROR: Unsupported URL: https://www.facebook.com/login/?next=https%3A%2F%2Fwww.facebook.com%2Fphoto%3Ffbid%3D10158003446139620%26set%3Dpcb.3242033472584438&_fb_noscript=1\n"
          ]
        },
        {
          "output_type": "stream",
          "name": "stdout",
          "text": [
            "Video copied to /content/drive/MyDrive/.Research/CLIP/yooyeon-atrey/videos/video_51\n",
            "File '/content/downloaded_video.mp4' deleted successfully.\n",
            "Video copied to /content/drive/MyDrive/.Research/CLIP/yooyeon-atrey/videos/video_52\n",
            "File '/content/downloaded_video.mp4' deleted successfully.\n",
            "Video copied to /content/drive/MyDrive/.Research/CLIP/yooyeon-atrey/videos/video_53\n",
            "File '/content/downloaded_video.mp4' deleted successfully.\n",
            "Video copied to /content/drive/MyDrive/.Research/CLIP/yooyeon-atrey/videos/video_54\n",
            "File '/content/downloaded_video.mp4' deleted successfully.\n",
            "Video copied to /content/drive/MyDrive/.Research/CLIP/yooyeon-atrey/videos/video_56\n",
            "File '/content/downloaded_video.mp4' deleted successfully.\n",
            "Video copied to /content/drive/MyDrive/.Research/CLIP/yooyeon-atrey/videos/video_57\n",
            "File '/content/downloaded_video.mp4' deleted successfully.\n"
          ]
        },
        {
          "output_type": "stream",
          "name": "stderr",
          "text": [
            "ERROR: [instagram:user] warmnfuzzy.tv: Unable to download webpage: HTTP Error 429: Too Many Requests (caused by <HTTPError 429: Too Many Requests>)\n",
            "ERROR: [youtube] tWVQFtYpGnY: Video unavailable. This video is no longer available due to a copyright claim by Rick Lax Entertainment\n"
          ]
        },
        {
          "output_type": "stream",
          "name": "stdout",
          "text": [
            "Video copied to /content/drive/MyDrive/.Research/CLIP/yooyeon-atrey/videos/video_60\n",
            "File '/content/downloaded_video.mp4' deleted successfully.\n",
            "Video copied to /content/drive/MyDrive/.Research/CLIP/yooyeon-atrey/videos/video_61\n",
            "File '/content/downloaded_video.mp4' deleted successfully.\n",
            "Video copied to /content/drive/MyDrive/.Research/CLIP/yooyeon-atrey/videos/video_63\n",
            "File '/content/downloaded_video.mp4' deleted successfully.\n",
            "Video copied to /content/drive/MyDrive/.Research/CLIP/yooyeon-atrey/videos/video_64\n",
            "File '/content/downloaded_video.mp4' deleted successfully.\n"
          ]
        },
        {
          "output_type": "stream",
          "name": "stderr",
          "text": [
            "ERROR: [facebook] 2731565820205672: Cannot parse data; please report this issue on  https://github.com/yt-dlp/yt-dlp/issues?q= , filling out the appropriate issue template. Confirm you are on the latest version using  yt-dlp -U\n"
          ]
        },
        {
          "output_type": "stream",
          "name": "stdout",
          "text": [
            "Video copied to /content/drive/MyDrive/.Research/CLIP/yooyeon-atrey/videos/video_66\n",
            "File '/content/downloaded_video.mp4' deleted successfully.\n"
          ]
        },
        {
          "output_type": "stream",
          "name": "stderr",
          "text": [
            "ERROR: [Reddit] 1654hjw: Account authentication is required. Use --cookies, --cookies-from-browser, --username and --password, --netrc-cmd, or --netrc (reddit) to provide account credentials. See  https://github.com/yt-dlp/yt-dlp/wiki/FAQ#how-do-i-pass-cookies-to-yt-dlp  for how to manually pass cookies\n"
          ]
        },
        {
          "output_type": "stream",
          "name": "stdout",
          "text": [
            "Video copied to /content/drive/MyDrive/.Research/CLIP/yooyeon-atrey/videos/video_69\n",
            "File '/content/downloaded_video.mp4' deleted successfully.\n"
          ]
        },
        {
          "output_type": "stream",
          "name": "stderr",
          "text": [
            "ERROR: [twitter] 1227570288071716864: No video could be found in this tweet\n"
          ]
        },
        {
          "output_type": "stream",
          "name": "stdout",
          "text": [
            "Video copied to /content/drive/MyDrive/.Research/CLIP/yooyeon-atrey/videos/video_71\n",
            "File '/content/downloaded_video.mp4' deleted successfully.\n",
            "Video copied to /content/drive/MyDrive/.Research/CLIP/yooyeon-atrey/videos/video_72\n",
            "File '/content/downloaded_video.mp4' deleted successfully.\n"
          ]
        },
        {
          "output_type": "stream",
          "name": "stderr",
          "text": [
            "ERROR: [twitter] 1785891276228895152: No video could be found in this tweet\n",
            "ERROR: [twitter] 1867317812450246759: No video could be found in this tweet\n",
            "ERROR: [facebook] pfbid0pjz18GG6YwH1mYUcvcviHFosdbjp3LBzmXwd5qzVzUTuvyLhJhjUj2JxrMxCk4dyl: Unable to download webpage: HTTP Error 404: Not Found (caused by <HTTPError 404: Not Found>)\n"
          ]
        },
        {
          "output_type": "stream",
          "name": "stdout",
          "text": []
        },
        {
          "output_type": "stream",
          "name": "stderr",
          "text": [
            "ERROR: [youtube] BuO6yJrRAYw: Video unavailable\n"
          ]
        },
        {
          "output_type": "stream",
          "name": "stdout",
          "text": [
            "Video copied to /content/drive/MyDrive/.Research/CLIP/yooyeon-atrey/videos/video_79\n",
            "File '/content/downloaded_video.mp4' deleted successfully.\n",
            "Video copied to /content/drive/MyDrive/.Research/CLIP/yooyeon-atrey/videos/video_80\n",
            "File '/content/downloaded_video.mp4' deleted successfully.\n",
            "Video copied to /content/drive/MyDrive/.Research/CLIP/yooyeon-atrey/videos/video_81\n",
            "File '/content/downloaded_video.mp4' deleted successfully.\n",
            "Video copied to /content/drive/MyDrive/.Research/CLIP/yooyeon-atrey/videos/video_82\n",
            "File '/content/downloaded_video.mp4' deleted successfully.\n",
            "Video copied to /content/drive/MyDrive/.Research/CLIP/yooyeon-atrey/videos/video_83\n",
            "File '/content/downloaded_video.mp4' deleted successfully.\n",
            "Video copied to /content/drive/MyDrive/.Research/CLIP/yooyeon-atrey/videos/video_84\n",
            "File '/content/downloaded_video.mp4' deleted successfully.\n",
            "Video copied to /content/drive/MyDrive/.Research/CLIP/yooyeon-atrey/videos/video_86\n",
            "File '/content/downloaded_video.mp4' deleted successfully.\n",
            "Video copied to /content/drive/MyDrive/.Research/CLIP/yooyeon-atrey/videos/video_87\n",
            "File '/content/downloaded_video.mp4' deleted successfully.\n"
          ]
        },
        {
          "output_type": "stream",
          "name": "stderr",
          "text": [
            "ERROR: Unsupported URL: https://x.com/hashtag/Myanmar?src=hashtag_click\n",
            "ERROR: [youtube] fQupQPCEw4U: Video unavailable\n",
            "ERROR: [twitter] 1849549522185097530: No video could be found in this tweet\n"
          ]
        },
        {
          "output_type": "stream",
          "name": "stdout",
          "text": [
            "Video copied to /content/drive/MyDrive/.Research/CLIP/yooyeon-atrey/videos/video_91\n",
            "File '/content/downloaded_video.mp4' deleted successfully.\n",
            "Video copied to /content/drive/MyDrive/.Research/CLIP/yooyeon-atrey/videos/video_92\n",
            "File '/content/downloaded_video.mp4' deleted successfully.\n",
            "Video copied to /content/drive/MyDrive/.Research/CLIP/yooyeon-atrey/videos/video_93\n",
            "File '/content/downloaded_video.mp4' deleted successfully.\n",
            "Video copied to /content/drive/MyDrive/.Research/CLIP/yooyeon-atrey/videos/video_94\n",
            "File '/content/downloaded_video.mp4' deleted successfully.\n",
            "Video copied to /content/drive/MyDrive/.Research/CLIP/yooyeon-atrey/videos/video_95\n",
            "File '/content/downloaded_video.mp4' deleted successfully.\n",
            "Video copied to /content/drive/MyDrive/.Research/CLIP/yooyeon-atrey/videos/video_96\n",
            "File '/content/downloaded_video.mp4' deleted successfully.\n",
            "Video copied to /content/drive/MyDrive/.Research/CLIP/yooyeon-atrey/videos/video_97\n",
            "File '/content/downloaded_video.mp4' deleted successfully.\n",
            "Video data saved to video_data.json\n",
            "JSON file copied to Google Drive.\n"
          ]
        }
      ]
    }
  ]
}